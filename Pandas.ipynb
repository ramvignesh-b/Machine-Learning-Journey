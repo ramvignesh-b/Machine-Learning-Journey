{
 "cells": [
  {
   "cell_type": "code",
   "execution_count": 12,
   "metadata": {},
   "outputs": [],
   "source": [
    "import numpy as np\n",
    "import pandas as pd"
   ]
  },
  {
   "cell_type": "markdown",
   "metadata": {},
   "source": [
    "## 1-D Data\n",
    "\n",
    "### We use 'pd.Series' objects to deal with one dimensional data"
   ]
  },
  {
   "cell_type": "code",
   "execution_count": 9,
   "metadata": {},
   "outputs": [
    {
     "name": "stdout",
     "output_type": "stream",
     "text": [
      "Series([], dtype: float64)\n",
      "\n",
      "0    5\n",
      "dtype: int64\n",
      "\n",
      "0    1\n",
      "1    2\n",
      "2    3\n",
      "dtype: int64\n",
      "\n",
      "0    1.0\n",
      "1    2.2\n",
      "dtype: float64\n",
      "\n"
     ]
    },
    {
     "name": "stderr",
     "output_type": "stream",
     "text": [
      "<ipython-input-9-0170feccda96>:1: DeprecationWarning: The default dtype for empty Series will be 'object' instead of 'float64' in a future version. Specify a dtype explicitly to silence this warning.\n",
      "  series = pd.Series()\n"
     ]
    }
   ],
   "source": [
    "series = pd.Series()\n",
    "print('{}\\n'.format(series))\n",
    "\n",
    "series = pd.Series(5)\n",
    "print('{}\\n'.format(series))\n",
    "\n",
    "series = pd.Series([1,2,3])\n",
    "print('{}\\n'.format(series))\n",
    "\n",
    "series = pd.Series([1, 2.2]) #upcasting (int -> float)\n",
    "print('{}\\n'.format(series))\n"
   ]
  },
  {
   "cell_type": "markdown",
   "metadata": {},
   "source": [
    "### use 'dtype' attribute to typecast"
   ]
  },
  {
   "cell_type": "code",
   "execution_count": 13,
   "metadata": {},
   "outputs": [
    {
     "name": "stdout",
     "output_type": "stream",
     "text": [
      "0    1.0\n",
      "1    2.0\n",
      "dtype: float32\n",
      "\n"
     ]
    }
   ],
   "source": [
    "arr = np.array([1, 2])\n",
    "series = pd.Series(arr, dtype=np.float32)\n",
    "print('{}\\n'.format(series))"
   ]
  },
  {
   "cell_type": "code",
   "execution_count": 18,
   "metadata": {},
   "outputs": [
    {
     "name": "stdout",
     "output_type": "stream",
     "text": [
      "0    [1, 2]\n",
      "1    [3, 4]\n",
      "dtype: object\n",
      "\n"
     ]
    }
   ],
   "source": [
    "series = pd.Series([[1, 2], [3, 4]])\n",
    "print('{}\\n'.format(series))"
   ]
  },
  {
   "cell_type": "markdown",
   "metadata": {},
   "source": [
    "## Index\n",
    "\n",
    "### use the 'index' attribute to change the type of index (i. e. the serial numbers). \n",
    "\n",
    "Note: The index must be of same length as the series and can be of any data type"
   ]
  },
  {
   "cell_type": "code",
   "execution_count": 21,
   "metadata": {},
   "outputs": [
    {
     "name": "stdout",
     "output_type": "stream",
     "text": [
      "a    1\n",
      "b    2\n",
      "c    3\n",
      "dtype: int64\n"
     ]
    }
   ],
   "source": [
    "series = pd.Series([1,2,3], index=['a','b','c'])\n",
    "print(series)"
   ]
  },
  {
   "cell_type": "markdown",
   "metadata": {},
   "source": [
    "## Dictionary input\n"
   ]
  },
  {
   "cell_type": "code",
   "execution_count": 24,
   "metadata": {},
   "outputs": [
    {
     "name": "stdout",
     "output_type": "stream",
     "text": [
      "a    1\n",
      "b    2\n",
      "c    3\n",
      "dtype: int64\n",
      "\n",
      "b    2\n",
      "a    1\n",
      "c    3\n",
      "dtype: int64\n",
      "\n"
     ]
    }
   ],
   "source": [
    "series = pd.Series({'a':1, 'b':2, 'c':3})\n",
    "print('{}\\n'.format(series))\n",
    "\n",
    "series = pd.Series({'b':2, 'a':1, 'c':3})\n",
    "print('{}\\n'.format(series))"
   ]
  },
  {
   "cell_type": "markdown",
   "metadata": {},
   "source": [
    "# DataFrame\n",
    "\n",
    "## 2-D Data\n",
    "\n",
    "### use 'pandas.DataFrame' object to deal with tabular data"
   ]
  },
  {
   "cell_type": "code",
   "execution_count": 30,
   "metadata": {},
   "outputs": [
    {
     "name": "stdout",
     "output_type": "stream",
     "text": [
      "Empty DataFrame\n",
      "Columns: []\n",
      "Index: []\n",
      "\n",
      "\n",
      "   0\n",
      "0  5\n",
      "1  6\n",
      "\n",
      "\n",
      "   0  1\n",
      "0  5  6\n",
      "1  7  8\n"
     ]
    }
   ],
   "source": [
    "df = pd.DataFrame()\n",
    "print(df)\n",
    "print(\"\\n\")\n",
    "\n",
    "df = pd.DataFrame([5,6])\n",
    "print(df)\n",
    "print(\"\\n\")\n",
    "\n",
    "df = pd.DataFrame([[5,6],[7,8]])\n",
    "print(df)"
   ]
  },
  {
   "cell_type": "markdown",
   "metadata": {},
   "source": [
    "### use the 'index' and 'columns' attibutes to name the row and column headers respectively"
   ]
  },
  {
   "cell_type": "code",
   "execution_count": 31,
   "metadata": {},
   "outputs": [
    {
     "name": "stdout",
     "output_type": "stream",
     "text": [
      "    c1  c2\n",
      "r1   5   6\n",
      "r2   1   3\n"
     ]
    }
   ],
   "source": [
    "df = pd.DataFrame([[5,6], [1,3]], index=['r1', 'r2'], columns=['c1', 'c2'])\n",
    "print(df)"
   ]
  },
  {
   "cell_type": "markdown",
   "metadata": {},
   "source": [
    "### if we use Dictionary to describe the series, the column header values are automatically taken from the dictionary"
   ]
  },
  {
   "cell_type": "code",
   "execution_count": 33,
   "metadata": {},
   "outputs": [
    {
     "name": "stdout",
     "output_type": "stream",
     "text": [
      "    c1  c2\n",
      "r1   1   3\n",
      "r2   2   4\n"
     ]
    }
   ],
   "source": [
    "df = pd.DataFrame({'c1':[1,2], 'c2':[3,4]}, index=['r1', 'r2'])\n",
    "print(df)"
   ]
  },
  {
   "cell_type": "markdown",
   "metadata": {},
   "source": [
    "## Upcasting\n",
    "\n",
    "### upcasting occurs only on column basis"
   ]
  },
  {
   "cell_type": "code",
   "execution_count": 37,
   "metadata": {},
   "outputs": [
    {
     "name": "stdout",
     "output_type": "stream",
     "text": [
      "     a  b\n",
      "0  1.0  2\n",
      "1  3.1  4\n",
      "\n",
      "\n",
      "a    float64\n",
      "b      int64\n",
      "dtype: object\n"
     ]
    }
   ],
   "source": [
    "df = pd.DataFrame([[1,2],[3.1,4]], columns=['a','b'])\n",
    "print(df)\n",
    "print(\"\\n\")\n",
    "#dtype of each columns\n",
    "print(df.dtypes)"
   ]
  },
  {
   "cell_type": "markdown",
   "metadata": {},
   "source": [
    "## Appending Rows\n",
    "\n",
    "### use 'append' function to add rows to an existing dataframe\n",
    "\n",
    "Note: We need to specify a name for the index new series to be appended, using the 'name' attribute or use the 'ignore_index=True' attribute"
   ]
  },
  {
   "cell_type": "code",
   "execution_count": 39,
   "metadata": {},
   "outputs": [
    {
     "name": "stdout",
     "output_type": "stream",
     "text": [
      "     0  1\n",
      "0  5.0  6\n",
      "1  1.2  3\n",
      "\n",
      "     0  1\n",
      "0  5.0  6\n",
      "1  1.2  3\n",
      "2  0.0  0\n",
      "\n",
      "      0  1\n",
      "0   5.0  6\n",
      "1   1.2  3\n",
      "r3  1.0  1\n",
      "\n"
     ]
    }
   ],
   "source": [
    "df = pd.DataFrame([[5,6], [1.2,3]])\n",
    "ser = pd.Series([0,0])\n",
    "ser2 = pd.Series([1,1], name='r3')\n",
    "\n",
    "print('{}\\n'.format(df))\n",
    "\n",
    "df_new = df.append(ser, ignore_index=True)\n",
    "print('{}\\n'.format(df_new))\n",
    "\n",
    "df_new2 = df.append(ser2)\n",
    "print('{}\\n'.format(df_new2))"
   ]
  },
  {
   "cell_type": "markdown",
   "metadata": {},
   "source": [
    "## Dropping Data"
   ]
  },
  {
   "cell_type": "code",
   "execution_count": 48,
   "metadata": {},
   "outputs": [
    {
     "name": "stdout",
     "output_type": "stream",
     "text": [
      "     0  1\n",
      "0  5.0  6\n",
      "1  1.2  3\n",
      "\n",
      "     0  1\n",
      "1  1.2  3\n",
      "\n",
      "   1\n",
      "0  6\n",
      "1  3\n",
      "\n",
      "Empty DataFrame\n",
      "Columns: [0, 1]\n",
      "Index: []\n",
      "\n",
      "     0\n",
      "0  5.0\n",
      "1  1.2\n"
     ]
    }
   ],
   "source": [
    "print(df)\n",
    "\n",
    "df_drop = df.drop(labels=0)\n",
    "print('\\n{}'.format(df_drop))\n",
    "\n",
    "df_drop = df.drop(labels=0, axis=1)\n",
    "print('\\n{}'.format(df_drop))\n",
    "\n",
    "df_drop = df.drop(labels=[0,1])\n",
    "print('\\n{}'.format(df_drop))\n",
    "\n",
    "df_drop = df.drop(columns=1)\n",
    "print('\\n{}'.format(df_drop))"
   ]
  },
  {
   "cell_type": "markdown",
   "metadata": {},
   "source": [
    "## Concat\n",
    "\n",
    "### use 'concat' function to combine multiple dataframes together and 'axis' attribute wheter to concat rows (default) (0) or column(1)"
   ]
  },
  {
   "cell_type": "code",
   "execution_count": 56,
   "metadata": {},
   "outputs": [
    {
     "name": "stdout",
     "output_type": "stream",
     "text": [
      "    c1  c2  c1  c2\n",
      "r1   1   3   5   7\n",
      "r2   2   4   6   8\n",
      "\n",
      "    c1  c2\n",
      "r1   1   3\n",
      "r2   2   4\n",
      "r1   5   7\n",
      "r2   6   8\n",
      "\n"
     ]
    }
   ],
   "source": [
    "df1 = pd.DataFrame({'c1':[1,2], 'c2':[3,4]},\n",
    "                   index=['r1','r2'])\n",
    "df2 = pd.DataFrame({'c1':[5,6], 'c2':[7,8]},\n",
    "                   index=['r1','r2'])\n",
    "df3 = pd.DataFrame({'c1':[5,6], 'c2':[7,8]},\n",
    "                   index=['r1','r2'])\n",
    "\n",
    "concat_col = pd.concat([df1,df2], axis=1)\n",
    "print('{}\\n'.format(concat_col))\n",
    "concat_row = pd.concat([df1,df2], axis=0)\n",
    "print('{}\\n'.format(concat_row))"
   ]
  },
  {
   "cell_type": "code",
   "execution_count": 58,
   "metadata": {},
   "outputs": [
    {
     "name": "stdout",
     "output_type": "stream",
     "text": [
      "    c1  c2\n",
      "r1   1   3\n",
      "r2   2   4\n",
      "r1   5   7\n",
      "r2   6   8\n",
      "r1   5   7\n",
      "r2   6   8\n",
      "\n",
      "    c1  c2  c1  c2  c1  c2\n",
      "r1   1   3   5   7   5   7\n",
      "r2   2   4   6   8   6   8\n",
      "\n"
     ]
    }
   ],
   "source": [
    "concat = pd.concat([df1,df2,df3])\n",
    "print('{}\\n'.format(concat))\n",
    "\n",
    "concat = pd.concat([df1,df2,df3], axis=1)\n",
    "print('{}\\n'.format(concat))"
   ]
  },
  {
   "cell_type": "markdown",
   "metadata": {},
   "source": [
    "## Merge\n",
    "\n",
    "### use 'merge' function to completely merge multiple dataframes into one. By default, it merges with the common column label\n"
   ]
  },
  {
   "cell_type": "code",
   "execution_count": 69,
   "metadata": {},
   "outputs": [
    {
     "name": "stdout",
     "output_type": "stream",
     "text": [
      "      name        pos  year\n",
      "0      ram    student  2000\n",
      "1  vignesh    teacher  2004\n",
      "2     john  principal  2006\n",
      "\n",
      "      name  year  rbi\n",
      "0      ram  2000   80\n",
      "1  vignesh  2004  100\n",
      "2      doe  2006   12\n",
      "\n",
      "      name      pos  year  rbi\n",
      "0      ram  student  2000   80\n",
      "1  vignesh  teacher  2004  100\n"
     ]
    }
   ],
   "source": [
    "mdf1 = pd.DataFrame({'name':['ram','vignesh','john'],\n",
    "                   'pos':['student','teacher','principal'],\n",
    "                   'year':[2000,2004,2006]})\n",
    "print('{}\\n'.format(mdf1))\n",
    "\n",
    "mdf2 = pd.DataFrame({'name':['ram','vignesh','doe'],\n",
    "                     'year':[2000,2004,2006],\n",
    "                   'rbi':[80,100,12]})\n",
    "print('{}\\n'.format(mdf2))\n",
    "\n",
    "merged = pd.merge(mdf1,mdf2)\n",
    "print(merged)"
   ]
  },
  {
   "cell_type": "code",
   "execution_count": null,
   "metadata": {},
   "outputs": [],
   "source": []
  }
 ],
 "metadata": {
  "kernelspec": {
   "display_name": "Python 3",
   "language": "python",
   "name": "python3"
  },
  "language_info": {
   "codemirror_mode": {
    "name": "ipython",
    "version": 3
   },
   "file_extension": ".py",
   "mimetype": "text/x-python",
   "name": "python",
   "nbconvert_exporter": "python",
   "pygments_lexer": "ipython3",
   "version": "3.8.2"
  }
 },
 "nbformat": 4,
 "nbformat_minor": 4
}
