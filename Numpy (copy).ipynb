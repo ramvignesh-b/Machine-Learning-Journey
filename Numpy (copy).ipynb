{
 "cells": [
  {
   "cell_type": "code",
   "execution_count": 1,
   "metadata": {},
   "outputs": [],
   "source": [
    "import numpy as np"
   ]
  },
  {
   "cell_type": "markdown",
   "metadata": {},
   "source": [
    "## Arrays"
   ]
  },
  {
   "cell_type": "code",
   "execution_count": 2,
   "metadata": {},
   "outputs": [],
   "source": [
    "#initialize an array\n",
    "arr = np.array([-1,2,5], dtype=np.float32)"
   ]
  },
  {
   "cell_type": "code",
   "execution_count": 3,
   "metadata": {},
   "outputs": [
    {
     "name": "stdout",
     "output_type": "stream",
     "text": [
      "array([-1.,  2.,  5.], dtype=float32)\n"
     ]
    }
   ],
   "source": [
    "#print the representation of the array\n",
    "print(repr(arr))"
   ]
  },
  {
   "cell_type": "code",
   "execution_count": 4,
   "metadata": {},
   "outputs": [],
   "source": [
    "arr1 = np.array([[0,1,2],[3,4,5]], dtype=np.float32)"
   ]
  },
  {
   "cell_type": "code",
   "execution_count": 5,
   "metadata": {},
   "outputs": [
    {
     "name": "stdout",
     "output_type": "stream",
     "text": [
      "array([[0., 1., 2.],\n",
      "       [3., 4., 5.]], dtype=float32)\n"
     ]
    }
   ],
   "source": [
    "print(repr(arr1))"
   ]
  },
  {
   "cell_type": "markdown",
   "metadata": {},
   "source": [
    "### array type 'upcasts' to the highest level type"
   ]
  },
  {
   "cell_type": "code",
   "execution_count": 6,
   "metadata": {},
   "outputs": [
    {
     "name": "stdout",
     "output_type": "stream",
     "text": [
      "array([0. , 0.2, 2. ])\n"
     ]
    }
   ],
   "source": [
    "#double>float>int\n",
    "arr2 = np.array([0, 0.2 ,2])\n",
    "print(repr(arr2))"
   ]
  },
  {
   "cell_type": "markdown",
   "metadata": {},
   "source": [
    "## Copying\n"
   ]
  },
  {
   "cell_type": "code",
   "execution_count": 7,
   "metadata": {},
   "outputs": [
    {
     "name": "stdout",
     "output_type": "stream",
     "text": [
      "Array a: array([0, 1])\n",
      "Array a: array([5, 1])\n",
      "Array b: array([9, 8])\n",
      "Array d: array([6, 8])\n"
     ]
    }
   ],
   "source": [
    "a = np.array([0,1])\n",
    "b = np.array([9,8])\n",
    "c = a\n",
    "d = b.copy()\n",
    "# c is a reference to a\n",
    "# d is a copy of a\n",
    "print('Array a: {}'.format(repr(a)))\n",
    "c[0] = 5 # first element of a is changed to 5\n",
    "print('Array a: {}'.format(repr(a)))\n",
    "\n",
    "d[0] = 6\n",
    "print('Array b: {}'.format(repr(b)))\n",
    "print('Array d: {}'.format(repr(d)))"
   ]
  },
  {
   "cell_type": "markdown",
   "metadata": {},
   "source": [
    "## Casting"
   ]
  },
  {
   "cell_type": "markdown",
   "metadata": {},
   "source": [
    "### use astype to typecast\n",
    "#### (the default type is 'int64')"
   ]
  },
  {
   "cell_type": "code",
   "execution_count": 8,
   "metadata": {},
   "outputs": [
    {
     "name": "stdout",
     "output_type": "stream",
     "text": [
      "int64\n",
      "float32\n"
     ]
    }
   ],
   "source": [
    " \n",
    "arr = np.array([0,1,2])\n",
    "print(arr.dtype)\n",
    "arr = arr.astype(np.float32)\n",
    "print(arr.dtype)"
   ]
  },
  {
   "cell_type": "markdown",
   "metadata": {},
   "source": [
    "## NaN\n",
    "\n",
    "### use np.nan to act as a placeholder"
   ]
  },
  {
   "cell_type": "code",
   "execution_count": 9,
   "metadata": {},
   "outputs": [
    {
     "name": "stdout",
     "output_type": "stream",
     "text": [
      "array([nan,  1.,  2.])\n",
      "array(['nan', 'abc'], dtype='<U32')\n"
     ]
    }
   ],
   "source": [
    "arr = np.array([np.nan, 1, 2])\n",
    "print(repr(arr))\n",
    "\n",
    "arr = np.array([np.nan, 'abc'])\n",
    "print(repr(arr))"
   ]
  },
  {
   "cell_type": "markdown",
   "metadata": {},
   "source": [
    "#### np.nan cannot be an 'int' type"
   ]
  },
  {
   "cell_type": "code",
   "execution_count": 10,
   "metadata": {},
   "outputs": [
    {
     "ename": "ValueError",
     "evalue": "cannot convert float NaN to integer",
     "output_type": "error",
     "traceback": [
      "\u001b[0;31m---------------------------------------------------------------------------\u001b[0m",
      "\u001b[0;31mValueError\u001b[0m                                Traceback (most recent call last)",
      "\u001b[0;32m<ipython-input-10-37a243ae43a5>\u001b[0m in \u001b[0;36m<module>\u001b[0;34m\u001b[0m\n\u001b[1;32m      1\u001b[0m \u001b[0;31m#the following will throw an exception\u001b[0m\u001b[0;34m\u001b[0m\u001b[0;34m\u001b[0m\u001b[0;34m\u001b[0m\u001b[0m\n\u001b[0;32m----> 2\u001b[0;31m \u001b[0mnp\u001b[0m\u001b[0;34m.\u001b[0m\u001b[0marray\u001b[0m\u001b[0;34m(\u001b[0m\u001b[0;34m[\u001b[0m\u001b[0mnp\u001b[0m\u001b[0;34m.\u001b[0m\u001b[0mnan\u001b[0m\u001b[0;34m,\u001b[0m \u001b[0;36m1\u001b[0m\u001b[0;34m,\u001b[0m \u001b[0;36m2\u001b[0m\u001b[0;34m]\u001b[0m\u001b[0;34m,\u001b[0m \u001b[0mdtype\u001b[0m \u001b[0;34m=\u001b[0m \u001b[0mnp\u001b[0m\u001b[0;34m.\u001b[0m\u001b[0mint32\u001b[0m\u001b[0;34m)\u001b[0m\u001b[0;34m\u001b[0m\u001b[0;34m\u001b[0m\u001b[0m\n\u001b[0m",
      "\u001b[0;31mValueError\u001b[0m: cannot convert float NaN to integer"
     ]
    }
   ],
   "source": [
    "#the following will throw an exception\n",
    "np.array([np.nan, 1, 2], dtype = np.int32)"
   ]
  },
  {
   "cell_type": "markdown",
   "metadata": {},
   "source": [
    "## Infinity\n",
    "\n",
    "### use 'np.inf' to represent +ve infinity and '-np.inf' to represent -ve infinity"
   ]
  },
  {
   "cell_type": "code",
   "execution_count": null,
   "metadata": {},
   "outputs": [],
   "source": [
    "print(np.inf > 100000000)\n",
    "\n",
    "arr = np.array([np.inf, 5])\n",
    "print(repr(arr))\n",
    "\n",
    "arr = np.array([-np.inf, 5])\n",
    "print(repr(arr))"
   ]
  },
  {
   "cell_type": "markdown",
   "metadata": {},
   "source": [
    "#### np.inf cannot take 'int' data type"
   ]
  },
  {
   "cell_type": "code",
   "execution_count": null,
   "metadata": {},
   "outputs": [],
   "source": [
    "#the following will throw an exception\n",
    "np.array([np.inf, 1, 2], dtype = np.int32)"
   ]
  },
  {
   "cell_type": "markdown",
   "metadata": {},
   "source": [
    "# Excercise 1\n",
    "###### The first array we'll create comes straight from a list of integers and np.nan. The list contains np.nan as the first element, and the integers from 2 to 5, inclusive, as the next four elements."
   ]
  },
  {
   "cell_type": "code",
   "execution_count": null,
   "metadata": {},
   "outputs": [],
   "source": [
    "#solution\n",
    "arr = np.array([np.nan, 1, 3, 4, 5])\n",
    "print(arr)"
   ]
  },
  {
   "cell_type": "markdown",
   "metadata": {},
   "source": [
    "###### We now want to copy the array so we can change the first element to 10. This way we don't modify the original array."
   ]
  },
  {
   "cell_type": "code",
   "execution_count": null,
   "metadata": {},
   "outputs": [],
   "source": [
    "#solution\n",
    "arr2 = arr.copy()\n",
    "arr2[0] = 10\n",
    "print(arr)\n",
    "print(arr2)"
   ]
  },
  {
   "cell_type": "markdown",
   "metadata": {},
   "source": [
    "###### The next two arrays will use floating point numbers. The first array will be upcast to floating point numbers, while we manually cast the second array using np.float32."
   ]
  },
  {
   "cell_type": "code",
   "execution_count": null,
   "metadata": {},
   "outputs": [],
   "source": [
    "float_arr = np.array([1, 5.4, 3])\n",
    "print(float_arr.dtype)\n",
    "float_arr2 = arr2.astype(np.float32)\n",
    "print(float_arr2.dtype)"
   ]
  },
  {
   "cell_type": "markdown",
   "metadata": {},
   "source": [
    "###### The final array will be a multi-dimensional array, specifically a 2-D matrix. The 2-D matrix will have the integers 1, 2, 3 in its first row, and the integers 4, 5, 6 in its second row. We'll also manually set its type to np.float32."
   ]
  },
  {
   "cell_type": "code",
   "execution_count": null,
   "metadata": {},
   "outputs": [],
   "source": [
    "#solution\n",
    "matrix = np.array([[1, 2 ,3],[4, 5, 6]], dtype = np.float32)\n",
    "print(repr(matrix))"
   ]
  },
  {
   "cell_type": "markdown",
   "metadata": {},
   "source": [
    "## Ranged Data\n",
    "\n",
    "### use 'np.arange' to create ranged data arrays\n",
    "\n",
    "#### Note: The Lower end is inclusive and the upper end is exclusive\n"
   ]
  },
  {
   "cell_type": "code",
   "execution_count": 17,
   "metadata": {},
   "outputs": [
    {
     "name": "stdout",
     "output_type": "stream",
     "text": [
      "array([0, 1, 2, 3, 4])\n",
      "array([0., 1., 2., 3., 4., 5.])\n",
      "array([-1,  0,  1,  2,  3])\n",
      "array([-1.5,  0.5,  2.5])\n"
     ]
    }
   ],
   "source": [
    "arr = np.arange(5)\n",
    "#from 0 to 4 \n",
    "print(repr(arr))\n",
    "\n",
    "arr = np.arange(5.1)\n",
    "#float point, note that 5.0 also gets printed as the max here is '5.1'\n",
    "print(repr(arr))\n",
    "\n",
    "arr = np.arange(-1,4)\n",
    "#if two arguments, then start and max\n",
    "print(repr(arr))\n",
    "\n",
    "arr = np.arange(-1.5, 4, 2)\n",
    "#if three arguments, then start, max and increment\n",
    "print(repr(arr))"
   ]
  },
  {
   "cell_type": "markdown",
   "metadata": {},
   "source": [
    "### To specify a predefined number of elements in the range, use 'np.linspace'. Takes a 'num' argument"
   ]
  },
  {
   "cell_type": "code",
   "execution_count": 22,
   "metadata": {},
   "outputs": [
    {
     "name": "stdout",
     "output_type": "stream",
     "text": [
      "array([ 5.,  7.,  9., 11.])\n",
      "array([ 5.        ,  5.12244898,  5.24489796,  5.36734694,  5.48979592,\n",
      "        5.6122449 ,  5.73469388,  5.85714286,  5.97959184,  6.10204082,\n",
      "        6.2244898 ,  6.34693878,  6.46938776,  6.59183673,  6.71428571,\n",
      "        6.83673469,  6.95918367,  7.08163265,  7.20408163,  7.32653061,\n",
      "        7.44897959,  7.57142857,  7.69387755,  7.81632653,  7.93877551,\n",
      "        8.06122449,  8.18367347,  8.30612245,  8.42857143,  8.55102041,\n",
      "        8.67346939,  8.79591837,  8.91836735,  9.04081633,  9.16326531,\n",
      "        9.28571429,  9.40816327,  9.53061224,  9.65306122,  9.7755102 ,\n",
      "        9.89795918, 10.02040816, 10.14285714, 10.26530612, 10.3877551 ,\n",
      "       10.51020408, 10.63265306, 10.75510204, 10.87755102, 11.        ])\n",
      "array([ 5,  7,  9, 11], dtype=int32)\n"
     ]
    }
   ],
   "source": [
    "arr = np.linspace(5, 11, num=4)\n",
    "print(repr(arr))\n",
    "#default type is float and default value for num is '50'\n",
    "\n",
    "arr = np.linspace(5, 11)\n",
    "print(repr(arr))\n",
    "#also, the endpoint is inclusive unless is set to false\n",
    "\n",
    "arr = np.linspace(5,11, num=4, dtype=np.int32)\n",
    "print(repr(arr))"
   ]
  },
  {
   "cell_type": "markdown",
   "metadata": {},
   "source": [
    "## Reshaping Data "
   ]
  },
  {
   "cell_type": "code",
   "execution_count": 27,
   "metadata": {},
   "outputs": [
    {
     "name": "stdout",
     "output_type": "stream",
     "text": [
      "array([0, 1, 2, 3, 4, 5, 6, 7])\n",
      "array([[0, 1, 2, 3],\n",
      "       [4, 5, 6, 7]])\n",
      "array([[[0, 1],\n",
      "        [2, 3]],\n",
      "\n",
      "       [[4, 5],\n",
      "        [6, 7]]])\n"
     ]
    }
   ],
   "source": [
    "arr = np.arange(8)\n",
    "print(repr(arr))\n",
    "\n",
    "reshaped_arr = np.reshape(arr, (2,4)) #2nd argument: [rowsxcolumn]\n",
    "print(repr(reshaped_arr))\n",
    "\n",
    "reshaped_arr = np.reshape(arr, (-1,2,2)) #'-1' to contain the shape\n",
    "#gives two 2x2 arrays\n",
    "print(repr(reshaped_arr))"
   ]
  },
  {
   "cell_type": "markdown",
   "metadata": {},
   "source": [
    "### use 'flatten()' funtion to convert reshaped arrays into an one-dimentional array."
   ]
  },
  {
   "cell_type": "code",
   "execution_count": 28,
   "metadata": {},
   "outputs": [
    {
     "name": "stdout",
     "output_type": "stream",
     "text": [
      "array([0, 1, 2, 3, 4, 5, 6, 7])\n"
     ]
    }
   ],
   "source": [
    "reshaped_arr = reshaped_arr.flatten()\n",
    "print(repr(reshaped_arr))"
   ]
  },
  {
   "cell_type": "markdown",
   "metadata": {},
   "source": [
    "## Transposing\n",
    "\n",
    "### Use 'np.transpose' function to transpose the array"
   ]
  },
  {
   "cell_type": "code",
   "execution_count": 33,
   "metadata": {},
   "outputs": [
    {
     "name": "stdout",
     "output_type": "stream",
     "text": [
      "array([[0, 1],\n",
      "       [2, 3],\n",
      "       [4, 5],\n",
      "       [6, 7]])\n",
      "array([[0, 2, 4, 6],\n",
      "       [1, 3, 5, 7]])\n"
     ]
    }
   ],
   "source": [
    "arr = np.reshape(arr, (4,2))\n",
    "print(repr(arr))\n",
    "\n",
    "transposed_arr = np.transpose(arr)\n",
    "#(4,2) becomes (2,4)\n",
    "print(repr(transposed_arr))"
   ]
  },
  {
   "cell_type": "markdown",
   "metadata": {},
   "source": [
    "### use 'axes' to define new permutation of the dimensions (i.e the order of transpose). The dafault value for a 3-d arrays is [2,1,0]"
   ]
  },
  {
   "cell_type": "code",
   "execution_count": 44,
   "metadata": {},
   "outputs": [
    {
     "name": "stdout",
     "output_type": "stream",
     "text": [
      "array([[[ 0,  1],\n",
      "        [ 2,  3],\n",
      "        [ 4,  5],\n",
      "        [ 6,  7]],\n",
      "\n",
      "       [[ 8,  9],\n",
      "        [10, 11],\n",
      "        [12, 13],\n",
      "        [14, 15]],\n",
      "\n",
      "       [[16, 17],\n",
      "        [18, 19],\n",
      "        [20, 21],\n",
      "        [22, 23]]])\n",
      "array([[[ 0,  8, 16],\n",
      "        [ 2, 10, 18],\n",
      "        [ 4, 12, 20],\n",
      "        [ 6, 14, 22]],\n",
      "\n",
      "       [[ 1,  9, 17],\n",
      "        [ 3, 11, 19],\n",
      "        [ 5, 13, 21],\n",
      "        [ 7, 15, 23]]])\n"
     ]
    }
   ],
   "source": [
    "arr = np.arange(24)\n",
    "arr = np.reshape(arr, (3,4,2))\n",
    "print(repr(arr))\n",
    "transposed = np.transpose(arr, axes = (2,1,0))\n",
    "print(repr(transposed))"
   ]
  },
  {
   "cell_type": "markdown",
   "metadata": {},
   "source": [
    "## Zeroes and Ones\n",
    "\n",
    "### Use 'np.zeros' to generate '0s' and 'np.ones' to generate '1s' "
   ]
  },
  {
   "cell_type": "code",
   "execution_count": 48,
   "metadata": {},
   "outputs": [
    {
     "name": "stdout",
     "output_type": "stream",
     "text": [
      "array([0., 0., 0., 0.])\n",
      "array([[1, 1],\n",
      "       [1, 1],\n",
      "       [1, 1]], dtype=int32)\n"
     ]
    }
   ],
   "source": [
    "arr = np.zeros(4)\n",
    "#create an one dimentional array \n",
    "print(repr(arr)) \n",
    "\n",
    "arr = np.ones((3,2), dtype = np.int32)\n",
    "print(repr(arr))"
   ]
  },
  {
   "cell_type": "markdown",
   "metadata": {},
   "source": [
    "### use 'np.zeros_like' to create an array of the same shape as any other array"
   ]
  },
  {
   "cell_type": "code",
   "execution_count": 54,
   "metadata": {},
   "outputs": [
    {
     "name": "stdout",
     "output_type": "stream",
     "text": [
      "array([[ 0,  1,  2,  3],\n",
      "       [ 4,  5,  6,  7],\n",
      "       [ 8,  9, 10, 11],\n",
      "       [12, 13, 14, 15],\n",
      "       [16, 17, 18, 19]])\n",
      "array([[1, 1, 1, 1],\n",
      "       [1, 1, 1, 1],\n",
      "       [1, 1, 1, 1],\n",
      "       [1, 1, 1, 1],\n",
      "       [1, 1, 1, 1]])\n"
     ]
    }
   ],
   "source": [
    "arr = np.arange(20)\n",
    "arr = np.reshape(arr, (5,4))\n",
    "print(repr(arr))\n",
    "\n",
    "arr1 = np.ones_like(arr)\n",
    "print(repr(arr1))"
   ]
  },
  {
   "cell_type": "markdown",
   "metadata": {},
   "source": [
    "# Excercise 2\n",
    "\n",
    "##### Our initial array will just be all the integers from 0 to 11, inclusive. We'll also reshape it so it has three dimensions."
   ]
  },
  {
   "cell_type": "code",
   "execution_count": 58,
   "metadata": {},
   "outputs": [
    {
     "name": "stdout",
     "output_type": "stream",
     "text": [
      "array([[[ 0,  1],\n",
      "        [ 2,  3],\n",
      "        [ 4,  5]],\n",
      "\n",
      "       [[ 6,  7],\n",
      "        [ 8,  9],\n",
      "        [10, 11]]])\n"
     ]
    }
   ],
   "source": [
    "#solution\n",
    "arr = np.arange(12)\n",
    "reshaped = np.reshape(arr, (2,3,2))\n",
    "print(repr(reshaped))"
   ]
  },
  {
   "cell_type": "markdown",
   "metadata": {},
   "source": [
    "##### Next we want to get a flattened version of the reshaped array (the flattened version is equivalent to arr), as well as a transposed version. For the transposed version of reshaped, we use a permutation of (1, 2, 0)."
   ]
  },
  {
   "cell_type": "code",
   "execution_count": 59,
   "metadata": {},
   "outputs": [
    {
     "name": "stdout",
     "output_type": "stream",
     "text": [
      "array([ 0,  1,  2,  3,  4,  5,  6,  7,  8,  9, 10, 11])\n",
      "array([[[ 0,  6],\n",
      "        [ 1,  7]],\n",
      "\n",
      "       [[ 2,  8],\n",
      "        [ 3,  9]],\n",
      "\n",
      "       [[ 4, 10],\n",
      "        [ 5, 11]]])\n"
     ]
    }
   ],
   "source": [
    "#solution\n",
    "flattened = reshaped.flatten()\n",
    "print(repr(flattened))\n",
    "transposed = np.transpose(reshaped, axes = (1,2,0))\n",
    "print(repr(transposed))\n"
   ]
  },
  {
   "cell_type": "markdown",
   "metadata": {},
   "source": [
    "##### We'll create an array of 5 elements, all of which are 0. We'll also create an array with the same shape as transposed, but containing only 1 as the elements."
   ]
  },
  {
   "cell_type": "code",
   "execution_count": 60,
   "metadata": {},
   "outputs": [
    {
     "name": "stdout",
     "output_type": "stream",
     "text": [
      "array([0., 0., 0., 0., 0.])\n",
      "array([[[1, 1],\n",
      "        [1, 1]],\n",
      "\n",
      "       [[1, 1],\n",
      "        [1, 1]],\n",
      "\n",
      "       [[1, 1],\n",
      "        [1, 1]]])\n"
     ]
    }
   ],
   "source": [
    "#solution \n",
    "zeros_arr = np.zeros(5)\n",
    "print(repr(zeros_arr))\n",
    "ones_arr = np.ones_like(transposed)\n",
    "print(repr(ones_arr))"
   ]
  },
  {
   "cell_type": "markdown",
   "metadata": {},
   "source": [
    "##### The final array will contain 101 evenly spaced numbers between -3.5 and 1.5, inclusive. Since they are evenly spaced, the difference between adjacent numbers is 0.05."
   ]
  },
  {
   "cell_type": "code",
   "execution_count": 62,
   "metadata": {},
   "outputs": [
    {
     "name": "stdout",
     "output_type": "stream",
     "text": [
      "array([-3.5 , -3.45, -3.4 , -3.35, -3.3 , -3.25, -3.2 , -3.15, -3.1 ,\n",
      "       -3.05, -3.  , -2.95, -2.9 , -2.85, -2.8 , -2.75, -2.7 , -2.65,\n",
      "       -2.6 , -2.55, -2.5 , -2.45, -2.4 , -2.35, -2.3 , -2.25, -2.2 ,\n",
      "       -2.15, -2.1 , -2.05, -2.  , -1.95, -1.9 , -1.85, -1.8 , -1.75,\n",
      "       -1.7 , -1.65, -1.6 , -1.55, -1.5 , -1.45, -1.4 , -1.35, -1.3 ,\n",
      "       -1.25, -1.2 , -1.15, -1.1 , -1.05, -1.  , -0.95, -0.9 , -0.85,\n",
      "       -0.8 , -0.75, -0.7 , -0.65, -0.6 , -0.55, -0.5 , -0.45, -0.4 ,\n",
      "       -0.35, -0.3 , -0.25, -0.2 , -0.15, -0.1 , -0.05,  0.  ,  0.05,\n",
      "        0.1 ,  0.15,  0.2 ,  0.25,  0.3 ,  0.35,  0.4 ,  0.45,  0.5 ,\n",
      "        0.55,  0.6 ,  0.65,  0.7 ,  0.75,  0.8 ,  0.85,  0.9 ,  0.95,\n",
      "        1.  ,  1.05,  1.1 ,  1.15,  1.2 ,  1.25,  1.3 ,  1.35,  1.4 ,\n",
      "        1.45,  1.5 ])\n"
     ]
    }
   ],
   "source": [
    "#solution\n",
    "points = np.linspace(-3.5, 1.5, num=101)\n",
    "print(repr(points))"
   ]
  },
  {
   "cell_type": "markdown",
   "metadata": {},
   "source": [
    "# Math"
   ]
  },
  {
   "cell_type": "markdown",
   "metadata": {},
   "source": [
    "## Arithmetic"
   ]
  },
  {
   "cell_type": "code",
   "execution_count": 71,
   "metadata": {},
   "outputs": [
    {
     "name": "stdout",
     "output_type": "stream",
     "text": [
      "array([[2, 3],\n",
      "       [4, 5]])\n",
      "array([[-0.2,  0.8],\n",
      "       [ 1.8,  2.8]])\n",
      "array([[0.5, 1. ],\n",
      "       [1.5, 2. ]])\n",
      "array([[ 1,  4],\n",
      "       [ 9, 16]])\n",
      "array([[1.        , 1.41421356],\n",
      "       [1.73205081, 2.        ]])\n"
     ]
    }
   ],
   "source": [
    "arr = np.array([[1,2],[3,4]])\n",
    "print(repr(arr + 1))\n",
    "print(repr(arr - 1.2))\n",
    "print(repr(arr / 2))\n",
    "print(repr(arr ** 2)) #power '2' to the values\n",
    "print(repr(arr ** 0.5))"
   ]
  },
  {
   "cell_type": "code",
   "execution_count": 74,
   "metadata": {},
   "outputs": [
    {
     "name": "stdout",
     "output_type": "stream",
     "text": [
      "Celsius: array([  0., -20., -10., -40.])\n"
     ]
    }
   ],
   "source": [
    "#The code below converts Fahrenheit to Celsius in NumPy\n",
    "def f2c(temps):\n",
    "    return (5/9)*(temps-32)\n",
    "\n",
    "fahrenheits = np.array([32, -4, 14, -40])\n",
    "celsius = f2c(fahrenheits)\n",
    "print('Celsius: {}'.format(repr(celsius)))"
   ]
  },
  {
   "cell_type": "markdown",
   "metadata": {},
   "source": [
    "#### Note: Performing arithmetic on NumPy arrays 'does not change the original array'"
   ]
  },
  {
   "cell_type": "markdown",
   "metadata": {},
   "source": [
    "## Non-linear Functions\n",
    "\n",
    "### np.exp - perform a base e exponential\n",
    "### np.exp2 - perform a base 2 exponential\n",
    "### np.log - perform logarithmic functions\n",
    "### np.power - normal power operation"
   ]
  },
  {
   "cell_type": "code",
   "execution_count": 82,
   "metadata": {
    "scrolled": true
   },
   "outputs": [
    {
     "name": "stdout",
     "output_type": "stream",
     "text": [
      "array([[ 2.71828183,  7.3890561 ],\n",
      "       [20.08553692, 54.59815003]])\n",
      "array([[ 2.,  4.],\n",
      "       [ 8., 16.]])\n",
      "array([[0.        , 0.69314718],\n",
      "       [1.09861229, 1.38629436]])\n",
      "array([[0.       , 1.       ],\n",
      "       [1.5849625, 2.       ]])\n",
      "3.141592653589793\n",
      "2.718281828459045\n",
      "array([[ 1,  4],\n",
      "       [ 9, 16]])\n"
     ]
    }
   ],
   "source": [
    "arr = np.array([[1,2], [3,4]])\n",
    "print(repr(np.exp(arr)))\n",
    "print(repr(np.exp2(arr)))\n",
    "print(repr(np.log(arr)))\n",
    "print(repr(np.log2(arr)))\n",
    "\n",
    "print(np.pi) #value of pi\n",
    "print(np.e) #value of e\n",
    "\n",
    "print(repr(np.power(arr, 2)))"
   ]
  },
  {
   "cell_type": "markdown",
   "metadata": {},
   "source": [
    "NumPy is not limited to the above mentioned mathematical funtions:\n",
    "https://docs.scipy.org/doc/numpy/reference/routines.math.html  "
   ]
  },
  {
   "cell_type": "markdown",
   "metadata": {},
   "source": [
    "## Matrix Multiplication\n",
    "\n",
    "### use 'np.matmul' for multiplying 2 vector/matrix arrays\n",
    "### Note: \n",
    "the dimensions of the two input matrices must be valid for a matrix multiplication. Specifically, the second dimension of the first matrix must equal the first dimension of the second matrix, otherwise 'np.matmul' will result in a 'ValueError'"
   ]
  },
  {
   "cell_type": "code",
   "execution_count": 91,
   "metadata": {},
   "outputs": [
    {
     "name": "stdout",
     "output_type": "stream",
     "text": [
      "[0 1 2 3]\n",
      "[5 6 7 8]\n",
      "44\n",
      "array([[  5,   4,  -7],\n",
      "       [  9,   8, -13],\n",
      "       [ 13,  12, -19]])\n",
      "array([[  4,   4],\n",
      "       [-11, -10]])\n"
     ]
    },
    {
     "ename": "ValueError",
     "evalue": "matmul: Input operand 1 has a mismatch in its core dimension 0, with gufunc signature (n?,k),(k,m?)->(n?,m?) (size 3 is different from 2)",
     "output_type": "error",
     "traceback": [
      "\u001b[0;31m---------------------------------------------------------------------------\u001b[0m",
      "\u001b[0;31mValueError\u001b[0m                                Traceback (most recent call last)",
      "\u001b[0;32m<ipython-input-91-af62a825a9fb>\u001b[0m in \u001b[0;36m<module>\u001b[0;34m\u001b[0m\n\u001b[1;32m     12\u001b[0m \u001b[0;34m\u001b[0m\u001b[0m\n\u001b[1;32m     13\u001b[0m \u001b[0;31m#this will throw an error\u001b[0m\u001b[0;34m\u001b[0m\u001b[0;34m\u001b[0m\u001b[0;34m\u001b[0m\u001b[0m\n\u001b[0;32m---> 14\u001b[0;31m \u001b[0mprint\u001b[0m\u001b[0;34m(\u001b[0m\u001b[0mrepr\u001b[0m\u001b[0;34m(\u001b[0m\u001b[0mnp\u001b[0m\u001b[0;34m.\u001b[0m\u001b[0mmatmul\u001b[0m\u001b[0;34m(\u001b[0m\u001b[0marr3\u001b[0m\u001b[0;34m,\u001b[0m \u001b[0marr3\u001b[0m\u001b[0;34m)\u001b[0m\u001b[0;34m)\u001b[0m\u001b[0;34m)\u001b[0m\u001b[0;34m\u001b[0m\u001b[0;34m\u001b[0m\u001b[0m\n\u001b[0m",
      "\u001b[0;31mValueError\u001b[0m: matmul: Input operand 1 has a mismatch in its core dimension 0, with gufunc signature (n?,k),(k,m?)->(n?,m?) (size 3 is different from 2)"
     ]
    }
   ],
   "source": [
    "arr1 = np.arange(4)\n",
    "print(arr1)\n",
    "arr2 = np.arange(5,9)\n",
    "print(arr2)\n",
    "\n",
    "print(np.matmul(arr2, arr1))\n",
    "\n",
    "arr3 = np.array([[1, 2], [3, 4], [5, 6]])\n",
    "arr4 = np.array([[-1, 0, 1], [3, 2, -4]])\n",
    "print(repr(np.matmul(arr3, arr4)))\n",
    "print(repr(np.matmul(arr4, arr3)))\n",
    "\n",
    "#this will throw an error\n",
    "print(repr(np.matmul(arr3, arr3)))"
   ]
  }
 ],
 "metadata": {
  "kernelspec": {
   "display_name": "Python 3",
   "language": "python",
   "name": "python3"
  },
  "language_info": {
   "codemirror_mode": {
    "name": "ipython",
    "version": 3
   },
   "file_extension": ".py",
   "mimetype": "text/x-python",
   "name": "python",
   "nbconvert_exporter": "python",
   "pygments_lexer": "ipython3",
   "version": "3.8.2"
  }
 },
 "nbformat": 4,
 "nbformat_minor": 4
}
